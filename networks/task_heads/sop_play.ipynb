{
 "cells": [
  {
   "cell_type": "code",
   "execution_count": 9,
   "metadata": {},
   "outputs": [],
   "source": [
    "import os\n",
    "import tokenizers\n",
    "from tokenizers import Tokenizer\n",
    "from tokenizers import BertWordPieceTokenizer\n",
    "from tokenizers.models import WordPiece\n",
    "from tokenizers.trainers import WordPieceTrainer, BpeTrainer, UnigramTrainer\n",
    "from typing import List\n",
    "\n",
    "def train_iterator_mul_files(files):\n",
    "    for path in files:\n",
    "        with open(path, \"r\") as f:\n",
    "            for line in f:\n",
    "                yield line\n",
    "\n",
    "def is_filepath_list(filelist: List[str]) -> bool:\n",
    "    \"\"\"\n",
    "    Check if a list of filepaths is a list of files.\n",
    "    \"\"\"\n",
    "    for file in filelist:\n",
    "        if not os.path.isfile(file):\n",
    "            return False\n",
    "    return True"
   ]
  },
  {
   "cell_type": "code",
   "execution_count": 11,
   "metadata": {},
   "outputs": [],
   "source": [
    "vocab_size = 30_000\n",
    "min_frequency = 5\n",
    "unk_token = \"<UNK>\"\n",
    "spl_tokens = [\"<UNK>\", \"<SEP>\", \"<MASK>\", \"<CLS>\"]\n",
    "limit_alphabet = 500\n",
    "\n",
    "filelist = os.listdir(\"../../tokenization/data/queries\")"
   ]
  },
  {
   "cell_type": "code",
   "execution_count": 12,
   "metadata": {},
   "outputs": [],
   "source": [
    "if is_filepath_list(filelist):\n",
    "    train_it = train_iterator_mul_files(filelist)\n",
    "else:\n",
    "    train_it = filelist\n",
    "\n",
    "tokenizer = BertWordPieceTokenizer()\n",
    "tokenizer.normalizer = tokenizers.normalizers.BertNormalizer(strip_accents=True, lowercase=True)\n",
    "tokenizer.train_from_iterator(\n",
    "    train_it,\n",
    "    vocab_size=vocab_size,\n",
    "    show_progress=True,\n",
    "    min_frequency=min_frequency,\n",
    "    limit_alphabet=limit_alphabet,\n",
    "    )\n",
    "\n",
    "tokenizer.save(\"./BERT_tok-trained.json\")\n",
    "tokenizer = Tokenizer.from_file(\"./BERT_tok-trained.json\")"
   ]
  },
  {
   "cell_type": "code",
   "execution_count": null,
   "metadata": {},
   "outputs": [],
   "source": []
  }
 ],
 "metadata": {
  "interpreter": {
   "hash": "ddb1883014f5c20b3ff00aea59c0473962ec031800c9d6b4487bc9973db18f66"
  },
  "kernelspec": {
   "display_name": "Python 3.9.12 ('nlp')",
   "language": "python",
   "name": "python3"
  },
  "language_info": {
   "codemirror_mode": {
    "name": "ipython",
    "version": 3
   },
   "file_extension": ".py",
   "mimetype": "text/x-python",
   "name": "python",
   "nbconvert_exporter": "python",
   "pygments_lexer": "ipython3",
   "version": "3.9.12"
  },
  "orig_nbformat": 4
 },
 "nbformat": 4,
 "nbformat_minor": 2
}
