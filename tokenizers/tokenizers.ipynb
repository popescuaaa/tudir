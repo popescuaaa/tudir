{
 "cells": [
  {
   "cell_type": "code",
   "execution_count": 26,
   "metadata": {},
   "outputs": [],
   "source": [
    "import torch\n",
    "import transformers\n",
    "import tokenizers\n",
    "import sklearn\n",
    "from tokenizers import SentencePieceBPETokenizer\n",
    "from tokenizers import SentencePieceUnigramTokenizer\n",
    "from tokenizers import Tokenizer\n",
    "from tokenizers.models import WordPiece\n",
    "from tokenizers.trainers import WordPieceTrainer, BpeTrainer, UnigramTrainer\n",
    "# whitespace pretokenizer ?\n",
    "from tokenizers.pre_tokenizers import Whitespace\n",
    "# use bert pretokenizer\n",
    "from typing import List\n",
    "\n",
    "\n",
    "unk_token = \"<UNK>\"\n",
    "spl_tokens = [\"<UNK>\", \"<SEP>\", \"<MASK>\", \"<CLS>\"]"
   ]
  },
  {
   "cell_type": "code",
   "execution_count": 9,
   "metadata": {},
   "outputs": [],
   "source": [
    "def train_WordPieceTokenizer(file_list: List[str], vocab_size=30_000, min_frequency=5, limit_alphabet=500):\n",
    "    \"\"\"\n",
    "    Train WP tokenizer from a list of files.\n",
    "    \"\"\"\n",
    "    tokenizer = Tokenizer(WordPiece(unk_token = unk_token))\n",
    "    trainer = WordPieceTrainer(\n",
    "        vocab_size=vocab_size,\n",
    "        min_frequency=min_frequency,\n",
    "        special_tokens=spl_tokens,\n",
    "        show_progress=True,\n",
    "        limit_alphabet=limit_alphabet\n",
    "    )\n",
    "    tokenizer.pre_tokenizer = Whitespace()\n",
    "    \n",
    "    tokenizer.train(file_list, trainer)\n",
    "    \n",
    "    tokenizer.save(\"./WP_tok-trained.json\")\n",
    "    tokenizer = Tokenizer.from_file(\"./WP_tok-trained.json\")\n",
    "    return tokenizer"
   ]
  },
  {
   "cell_type": "code",
   "execution_count": 10,
   "metadata": {},
   "outputs": [],
   "source": [
    "def train_iterator_mul_files(files):\n",
    "    for path in files:\n",
    "        with open(path, \"r\") as f:\n",
    "            for line in f:\n",
    "                yield line"
   ]
  },
  {
   "cell_type": "code",
   "execution_count": 11,
   "metadata": {},
   "outputs": [],
   "source": [
    "def train_SentencePieceBPETokenizer(files: List[str], vocab_size=30_000, min_frequency=5, limit_alphabet=500):\n",
    "    \"\"\"\n",
    "    trin SP_BPE tokenizer from a list of files.\n",
    "    \"\"\"\n",
    "    train_it = train_iterator_mul_files(files)\n",
    "\n",
    "    tokenizer = SentencePieceBPETokenizer()\n",
    "    tokenizer.train_from_iterator(\n",
    "        train_it,\n",
    "        vocab_size=vocab_size,\n",
    "        min_frequency=min_frequency,\n",
    "        show_progress=True,\n",
    "        limit_alphabet=limit_alphabet,\n",
    "    )\n",
    "    tokenizer.save(\"./SP_BPE_tok-trained.json\")\n",
    "    tokenizer = Tokenizer.from_file(\"./SP_BPE_tok-trained.json\")\n",
    "    return tokenizer  "
   ]
  },
  {
   "cell_type": "code",
   "execution_count": 12,
   "metadata": {},
   "outputs": [],
   "source": [
    "def train_SentencePieceUGTokenizer(filelist: List[str], vocab_size=30_000):\n",
    "    \"\"\"\n",
    "    trin SP_UG tokenizer from a list of files.\n",
    "    \"\"\"\n",
    "    train_it = train_iterator_mul_files(filelist)\n",
    "\n",
    "    tokenizer = SentencePieceUnigramTokenizer()\n",
    "    tokenizer.train_from_iterator(\n",
    "        train_it,\n",
    "        vocab_size=vocab_size,\n",
    "        show_progress=True\n",
    "    )\n",
    "    tokenizer.save(\"./SP_UG_tok-trained.json\")\n",
    "    tokenizer = Tokenizer.from_file(\"./SP_UG_tok-trained.json\")\n",
    "    return tokenizer  "
   ]
  },
  {
   "cell_type": "code",
   "execution_count": 20,
   "metadata": {},
   "outputs": [],
   "source": [
    "import os\n",
    "\n",
    "def convert_corpus_with_tokenizer(contents: List[str], tokenizer: Tokenizer):\n",
    "    \"\"\"\n",
    "    Convert a list of strings with a tokenizer.\n",
    "    \"\"\"\n",
    "    if os.path.isfile(contents[0]):\n",
    "        contents = [open(path, \"r\").read() for path in contents]\n",
    "        contents = [c.replace(\"\\n\", '') for c in contents]\n",
    "    contents = tokenizer.encode_batch(contents)\n",
    "    corpus_tokens = [c.tokens for c in contents]\n",
    "    return corpus_tokens"
   ]
  },
  {
   "cell_type": "code",
   "execution_count": 31,
   "metadata": {},
   "outputs": [
    {
     "data": {
      "text/plain": [
       "<tokenizers.Tokenizer at 0x1fb6fe6af90>"
      ]
     },
     "execution_count": 31,
     "metadata": {},
     "output_type": "execute_result"
    }
   ],
   "source": [
    "\n",
    "file_list = os.listdir(\"./data/queries\")\n",
    "file_list = [\"./data/queries/\" + f for f in file_list]\n",
    "\n",
    "train_WordPieceTokenizer(file_list)\n",
    "train_SentencePieceBPETokenizer(file_list)\n",
    "train_SentencePieceUGTokenizer(file_list)"
   ]
  },
  {
   "cell_type": "code",
   "execution_count": 34,
   "metadata": {},
   "outputs": [],
   "source": [
    "tokenizer = Tokenizer.from_file(\"./SP_BPE_tok-trained.json\")\n",
    "\n",
    "corpus = convert_corpus_with_tokenizer(file_list, tokenizer)\n",
    "\n",
    "corpus = \" \".join(corpus[0])"
   ]
  },
  {
   "cell_type": "code",
   "execution_count": 53,
   "metadata": {},
   "outputs": [
    {
     "name": "stderr",
     "output_type": "stream",
     "text": [
      "C:\\Users\\teodor.neacsu\\Anaconda3\\envs\\dis\\lib\\site-packages\\sklearn\\utils\\deprecation.py:87: FutureWarning: Function get_feature_names is deprecated; get_feature_names is deprecated in 1.0 and will be removed in 1.2. Please use get_feature_names_out instead.\n",
      "  warnings.warn(msg, category=FutureWarning)\n"
     ]
    },
    {
     "data": {
      "text/plain": [
       "[[('bass', 0.5394451581794177),\n",
       "  ('sea', 0.5394451581794177),\n",
       "  ('cook', 0.4253047588435995)],\n",
       " [('language', 0.5100564784233356),\n",
       "  ('recipe', 0.5100564784233356),\n",
       "  ('cook', 0.40213438616183167)],\n",
       " [('package', 0.4981971092712959),\n",
       "  ('python', 0.4981971092712959),\n",
       "  ('wheel', 0.4981971092712959)],\n",
       " [('mean', 0.5100564784233356),\n",
       "  ('vector', 0.5100564784233356),\n",
       "  ('with', 0.40213438616183167)]]"
      ]
     },
     "execution_count": 53,
     "metadata": {},
     "output_type": "execute_result"
    }
   ],
   "source": [
    "from sklearn.feature_extraction.text import TfidfVectorizer\n",
    "\n",
    "vectorizer = TfidfVectorizer(input=\"filename\")\n",
    "X = vectorizer.fit_transform(file_list)\n",
    "vectorizer.get_feature_names_out()\n",
    "\n",
    "scores = []\n",
    "k = 3\n",
    "for i in range(len(file_list)):\n",
    "    query_scores = [(k, v) for k, v in dict(zip(vectorizer.get_feature_names(), X.toarray()[i])).items()]\n",
    "    query_scores = list(filter(lambda e: e[1] > 0, query_scores))\n",
    "    query_scores = { k : v for (k, v) in sorted(query_scores, key=lambda e: e[1], reverse=True)[:k]}\n",
    "    scores.append(query_scores)\n",
    "\n",
    "queries_text = [file.read().strip(\"\\n\").split(' ') for file in file_list]\n",
    "\n"
   ]
  },
  {
   "cell_type": "code",
   "execution_count": null,
   "metadata": {},
   "outputs": [],
   "source": []
  }
 ],
 "metadata": {
  "interpreter": {
   "hash": "f49bcd837b558ff6ff8826d7d17a0064837aa39a4f4484b433957070606ef428"
  },
  "kernelspec": {
   "display_name": "Python 3.9.7 ('dis')",
   "language": "python",
   "name": "python3"
  },
  "language_info": {
   "codemirror_mode": {
    "name": "ipython",
    "version": 3
   },
   "file_extension": ".py",
   "mimetype": "text/x-python",
   "name": "python",
   "nbconvert_exporter": "python",
   "pygments_lexer": "ipython3",
   "version": "3.9.7"
  },
  "orig_nbformat": 4
 },
 "nbformat": 4,
 "nbformat_minor": 2
}
