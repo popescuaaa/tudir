{
 "cells": [
  {
   "cell_type": "code",
   "execution_count": 7,
   "metadata": {},
   "outputs": [],
   "source": [
    "import torch\n",
    "import transformers\n",
    "import tokenizers\n",
    "from tokenizers import SentencePieceBPETokenizer\n",
    "from tokenizers import SentencePieceUnigramTokenizer\n",
    "from tokenizers import Tokenizer\n",
    "from tokenizers.models import WordPiece\n",
    "from tokenizers.trainers import WordPieceTrainer, BpeTrainer, UnigramTrainer\n",
    "# whitespace pretokenizer ?\n",
    "from tokenizers.pre_tokenizers import Whitespace\n",
    "# use bert pretokenizer\n",
    "from typing import List\n",
    "\n",
    "\n",
    "unk_token = \"<UNK>\"\n",
    "spl_tokens = [\"<UNK>\", \"<SEP>\", \"<MASK>\", \"<CLS>\"]"
   ]
  },
  {
   "cell_type": "code",
   "execution_count": 9,
   "metadata": {},
   "outputs": [],
   "source": [
    "def train_WordPieceTokenizer(file_list: List[str], vocab_size=30_000, min_frequency=5, limit_alphabet=500):\n",
    "    \"\"\"\n",
    "    Train WP tokenizer from a list of files.\n",
    "    \"\"\"\n",
    "    tokenizer = Tokenizer(WordPiece(unk_token = unk_token))\n",
    "    trainer = WordPieceTrainer(\n",
    "        vocab_size=vocab_size,\n",
    "        min_frequency=min_frequency,\n",
    "        special_tokens=spl_tokens,\n",
    "        show_progress=True,\n",
    "        limit_alphabet=limit_alphabet\n",
    "    )\n",
    "    tokenizer.pre_tokenizer = Whitespace()\n",
    "    \n",
    "    tokenizer.train(file_list, trainer)\n",
    "    \n",
    "    tokenizer.save(\"./WP_tok-trained.json\")\n",
    "    tokenizer = Tokenizer.from_file(\"./WP_tok-trained.json\")\n",
    "    return tokenizer"
   ]
  },
  {
   "cell_type": "code",
   "execution_count": 10,
   "metadata": {},
   "outputs": [],
   "source": [
    "def train_iterator_mul_files(files):\n",
    "    for path in files:\n",
    "        with open(path, \"r\") as f:\n",
    "            for line in f:\n",
    "                yield line"
   ]
  },
  {
   "cell_type": "code",
   "execution_count": 11,
   "metadata": {},
   "outputs": [],
   "source": [
    "def train_SentencePieceBPETokenizer(files: List[str], vocab_size=30_000, min_frequency=5, limit_alphabet=500):\n",
    "    \"\"\"\n",
    "    trin SP_BPE tokenizer from a list of files.\n",
    "    \"\"\"\n",
    "    train_it = train_iterator_mul_files(files)\n",
    "\n",
    "    tokenizer = SentencePieceBPETokenizer()\n",
    "    tokenizer.train_from_iterator(\n",
    "        train_it,\n",
    "        vocab_size=vocab_size,\n",
    "        min_frequency=min_frequency,\n",
    "        show_progress=True,\n",
    "        limit_alphabet=limit_alphabet,\n",
    "    )\n",
    "    tokenizer.save(\"./SP_BPE_tok-trained.json\")\n",
    "    tokenizer = Tokenizer.from_file(\"./SP_BPE_tok-trained.json\")\n",
    "    return tokenizer  "
   ]
  },
  {
   "cell_type": "code",
   "execution_count": 12,
   "metadata": {},
   "outputs": [],
   "source": [
    "def train_SentencePieceUGTokenizer(filelist: List[str], vocab_size=30_000):\n",
    "    \"\"\"\n",
    "    trin SP_UG tokenizer from a list of files.\n",
    "    \"\"\"\n",
    "    train_it = train_iterator_mul_files(filelist)\n",
    "\n",
    "    tokenizer = SentencePieceUnigramTokenizer()\n",
    "    tokenizer.train_from_iterator(\n",
    "        train_it,\n",
    "        vocab_size=vocab_size,\n",
    "        show_progress=True\n",
    "    )\n",
    "    tokenizer.save(\"./SP_UG_tok-trained.json\")\n",
    "    tokenizer = Tokenizer.from_file(\"./SP_UG_tok-trained.json\")\n",
    "    return tokenizer  "
   ]
  },
  {
   "cell_type": "code",
   "execution_count": 20,
   "metadata": {},
   "outputs": [],
   "source": [
    "import os\n",
    "\n",
    "def convert_corpus_with_tokenizer(contents: List[str], tokenizer: Tokenizer):\n",
    "    \"\"\"\n",
    "    Convert a list of strings with a tokenizer.\n",
    "    \"\"\"\n",
    "    if os.path.isfile(contents[0]):\n",
    "        contents = [open(path, \"r\").read() for path in contents]\n",
    "        contents = [c.replace(\"\\n\", '') for c in contents]\n",
    "    contents = tokenizer.encode_batch(contents)\n",
    "    corpus_tokens = [c.tokens for c in contents]\n",
    "    return corpus_tokens"
   ]
  },
  {
   "cell_type": "code",
   "execution_count": 21,
   "metadata": {},
   "outputs": [
    {
     "data": {
      "text/plain": [
       "<tokenizers.Tokenizer at 0x1fb6fe6db80>"
      ]
     },
     "execution_count": 21,
     "metadata": {},
     "output_type": "execute_result"
    }
   ],
   "source": [
    "file_list = [\"./data.txt\"]\n",
    "\n",
    "train_WordPieceTokenizer(file_list)\n",
    "train_SentencePieceBPETokenizer(file_list)\n",
    "train_SentencePieceUGTokenizer(file_list)"
   ]
  },
  {
   "cell_type": "code",
   "execution_count": 25,
   "metadata": {},
   "outputs": [
    {
     "data": {
      "text/plain": [
       "\"▁L ore m ▁I p s um ▁ i s ▁s i m p l y ▁ d um m y ▁t e x t ▁ of ▁the ▁p r in t ing ▁a n d ▁t y p es et t ing ▁in d u s t r y . ▁L ore m ▁I p s um ▁ h as ▁ b e en ▁the ▁in d u s t r y ' s ▁s t a n d a r d ▁ d um m y ▁t e x t ▁ e v e r ▁s in c e ▁the ▁ 1 5 0 0 s , ▁ w he n ▁a n ▁ u n k n o w n ▁p r in t e r ▁t o o k ▁a ▁ g a l le y ▁ of ▁t y p e ▁a n d ▁s c r a m b le d ▁ i t ▁t o ▁ m a k e ▁a ▁t y p e ▁s p e c i m en ▁ b o o k . ▁I t ▁ h as ▁s u r v i v e d ▁ n o t ▁ o n l y ▁ f i v e ▁ c en t u r i es , ▁ b u t ▁a l s o ▁the ▁ le a p ▁in t o ▁ e le c t r o n i c ▁t y p es et t ing , ▁ re m a in ing ▁ es s en t i a l l y ▁ u n c h a n g e d . ▁I t ▁ w as ▁p o p u l a r i s e d ▁in ▁the ▁ 1 9 6 0 s ▁ w i t h ▁the ▁ re le as e ▁ of ▁L et r as et ▁s he et s ▁ c o n t a in ing ▁L ore m ▁I p s um ▁p as s a g es , ▁a n d ▁ m ore ▁ re c en t l y ▁ w i t h ▁ d es k t o p ▁p u b l i s h ing ▁s of t w a re ▁ l i k e ▁ A l d u s ▁ P a g e M a k e r ▁in c l u d ing ▁ v e r s i o n s ▁ of ▁L ore m ▁I p s um .\""
      ]
     },
     "execution_count": 25,
     "metadata": {},
     "output_type": "execute_result"
    }
   ],
   "source": [
    "tokenizer = Tokenizer.from_file(\"./SP_BPE_tok-trained.json\")\n",
    "\n",
    "corpus = convert_corpus_with_tokenizer(file_list, tokenizer)\n",
    "\n",
    "\" \".join(corpus[0])"
   ]
  },
  {
   "cell_type": "code",
   "execution_count": null,
   "metadata": {},
   "outputs": [],
   "source": []
  }
 ],
 "metadata": {
  "interpreter": {
   "hash": "f49bcd837b558ff6ff8826d7d17a0064837aa39a4f4484b433957070606ef428"
  },
  "kernelspec": {
   "display_name": "Python 3.9.7 ('dis')",
   "language": "python",
   "name": "python3"
  },
  "language_info": {
   "codemirror_mode": {
    "name": "ipython",
    "version": 3
   },
   "file_extension": ".py",
   "mimetype": "text/x-python",
   "name": "python",
   "nbconvert_exporter": "python",
   "pygments_lexer": "ipython3",
   "version": "3.9.7"
  },
  "orig_nbformat": 4
 },
 "nbformat": 4,
 "nbformat_minor": 2
}
