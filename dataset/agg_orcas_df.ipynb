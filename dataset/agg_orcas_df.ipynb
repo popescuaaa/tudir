{
 "cells": [
  {
   "cell_type": "code",
   "execution_count": 11,
   "metadata": {},
   "outputs": [],
   "source": [
    "import torch\n",
    "import numpy as np\n",
    "import pandas as pd\n",
    "import re\n",
    "import pprint\n",
    "pd.set_option('display.max_rows', 500)\n",
    "pd.set_option('display.max_columns', 500)\n",
    "pd.set_option('display.width', 1000)\n",
    "pp = pprint.PrettyPrinter(indent=2)"
   ]
  },
  {
   "cell_type": "code",
   "execution_count": 12,
   "metadata": {},
   "outputs": [],
   "source": [
    "def orcas_to_raw_dataframe(path_file):\n",
    "    \"\"\"\n",
    "    Reads the orcas dataset and returns a pandas dataframe.\n",
    "    \"\"\"\n",
    "    f = open(path_file, 'r')\n",
    "    lines = f.readlines()\n",
    "    raw_df = pd.DataFrame(columns=['q_id', 'q', 'url_id', 'url'])\n",
    "    for line in lines:\n",
    "        re_gr = re.findall(r'(\\d+)[\\t ](.*)[\\t ](D\\d+)[\\t ](.*)', line)[0]\n",
    "        q_id, q, url_id, url = re_gr\n",
    "        q.strip(\"\\t \")\n",
    "        url.strip(\"\\t \")\n",
    "        raw_df.loc[len(raw_df)] = [q_id, q, url_id, url]\n",
    "    f.close()\n",
    "    return raw_df\n"
   ]
  },
  {
   "cell_type": "code",
   "execution_count": 28,
   "metadata": {},
   "outputs": [],
   "source": [
    "def orcas_to_agg_df(path):\n",
    "    \"\"\"\n",
    "    Reads the orcas dataset and returns a pandas dataframe.\n",
    "    \"\"\"\n",
    "    f = open(path, 'r')\n",
    "    agg_df = pd.DataFrame(columns=['q_id', 'q', '[url_id, url]'])\n",
    "    qid_urlid_dict = {}\n",
    "    lines = f.readlines()\n",
    "    for line in lines:\n",
    "        re_gr = re.findall(r'(\\d+)[\\t ](.*)[\\t ](D\\d+)[\\t ](.*)', line)[0]\n",
    "        q_id, q, url_id, url = re_gr\n",
    "        q.strip(\"\\t \")\n",
    "        url.strip(\"\\t \")\n",
    "        if (q_id, q) not in qid_urlid_dict:\n",
    "            qid_urlid_dict[(q_id, q)] = [[url_id, url]]\n",
    "        else:\n",
    "            qid_urlid_dict[(q_id, q)].append([url_id, url])\n",
    "    f.close()\n",
    "\n",
    "    for key, value in qid_urlid_dict.items():\n",
    "        agg_df.loc[len(agg_df)] = [key[0], key[1], str(value)]\n",
    "    agg_df.set_index('q_id', inplace=True)\n",
    "    return agg_df"
   ]
  },
  {
   "cell_type": "code",
   "execution_count": 29,
   "metadata": {},
   "outputs": [
    {
     "name": "stdout",
     "output_type": "stream",
     "text": [
      "                q                                      [url_id, url]\n",
      "q_id                                                                \n",
      "9265503    github  [['D1265400', 'https://desktop.github.com/'], ...\n",
      "6832981   youtube          [['D2923232', 'https://au.youtube.com/']]\n",
      "9571352         !  [['D1238374', 'https://www.englishclub.com/wri...\n",
      "4896888       ! c  [['D579719', 'https://en.wikipedia.org/wiki/C_...\n",
      "10001890    ! c++  [['D1094795', 'https://en.wikipedia.org/wiki/O...\n"
     ]
    }
   ],
   "source": [
    "orcas_path = \"./orcas_subset.tsv\"\n",
    "\n",
    "# raw_orcas_df = orcas_to_raw_dataframe(orcas_path)\n",
    "# print(raw_orcas_df.head())\n",
    "\n",
    "orcas_df = orcas_to_agg_df(orcas_path)\n",
    "print(orcas_df.head())"
   ]
  },
  {
   "cell_type": "code",
   "execution_count": null,
   "metadata": {},
   "outputs": [],
   "source": []
  }
 ],
 "metadata": {
  "interpreter": {
   "hash": "f49bcd837b558ff6ff8826d7d17a0064837aa39a4f4484b433957070606ef428"
  },
  "kernelspec": {
   "display_name": "Python 3.9.7 ('dis')",
   "language": "python",
   "name": "python3"
  },
  "language_info": {
   "codemirror_mode": {
    "name": "ipython",
    "version": 3
   },
   "file_extension": ".py",
   "mimetype": "text/x-python",
   "name": "python",
   "nbconvert_exporter": "python",
   "pygments_lexer": "ipython3",
   "version": "3.9.7"
  },
  "orig_nbformat": 4
 },
 "nbformat": 4,
 "nbformat_minor": 2
}
